{
 "cells": [
  {
   "cell_type": "code",
   "execution_count": 8,
   "id": "b0658aa4-f975-4fbb-a239-ab0acf2d10a2",
   "metadata": {},
   "outputs": [],
   "source": [
    "import json\n",
    "import numpy as np"
   ]
  },
  {
   "cell_type": "code",
   "execution_count": 33,
   "id": "ffb227bb-64b1-4ca3-84b7-bff9617ca7fe",
   "metadata": {},
   "outputs": [
    {
     "name": "stdout",
     "output_type": "stream",
     "text": [
      "{'files': '6y0y.pdb', 'result': 1.0}\n",
      "{'files': '6pom.pdb', 'result': 0.5298}\n",
      "{'files': '5y87.pdb', 'result': nan}\n",
      "{'files': '4l81.pdb', 'result': 0.9583}\n",
      "{'files': '3p59.pdb', 'result': 0.2917}\n",
      "{'files': '7v9e.pdb', 'result': 0.806}\n",
      "{'files': '5lyu.pdb', 'result': nan}\n",
      "{'files': '5di4.pdb', 'result': 0.5208}\n",
      "{'files': '4xw7.pdb', 'result': 0.9062}\n",
      "{'files': '5k7c.pdb', 'result': nan}\n",
      "{'files': '6tb7.pdb', 'result': 1.0}\n",
      "{'files': '3v7e.pdb', 'result': nan}\n",
      "{'files': '8dp3.pdb', 'result': nan}\n",
      "{'files': '4qlm.pdb', 'result': 0.8519}\n",
      "{'files': '5ddo.pdb', 'result': nan}\n",
      "{'files': '4p9r.pdb', 'result': 0.4868}\n",
      "{'files': '6pmo.pdb', 'result': 0.6692}\n",
      "{'files': '7qr4.pdb', 'result': nan}\n",
      "{'files': '4lck.pdb', 'result': nan}\n",
      "{'files': '6jq6.pdb', 'result': 0.8272}\n",
      "{'files': '7qr3.pdb', 'result': nan}\n",
      "{'files': '6y0t.pdb', 'result': 0.9259}\n",
      "{'files': '4r4v.pdb', 'result': 0.4378}\n",
      "{'files': '5nwq.pdb', 'result': 1.0}\n",
      "{'files': '5t5a.pdb', 'result': nan}\n",
      "{'files': '5kpy.pdb', 'result': 0.8732}\n",
      "{'files': '5y85.pdb', 'result': nan}\n",
      "{'files': '6jq5.pdb', 'result': 0.9512}\n",
      "{'files': '5tpy.pdb', 'result': 0.8028}\n",
      "{'files': '7bg9.pdb', 'result': nan}\n",
      "{'files': '3mei.pdb', 'result': 0.3636}\n",
      "{'files': '7elp.pdb', 'result': 0.5556}\n",
      "{'files': '7elr.pdb', 'result': 0.5111}\n",
      "{'files': '5iem.pdb', 'result': 0.8772}\n",
      "{'files': '7mlx.pdb', 'result': nan}\n",
      "{'files': '5lys.pdb', 'result': nan}\n",
      "{'files': '7els.pdb', 'result': 0.4667}\n",
      "{'files': '4gxy.pdb', 'result': 0.7453}\n",
      "{'files': '7eoj.pdb', 'result': 0.9792}\n",
      "{'files': '7elq.pdb', 'result': 0.4889}\n",
      "{'files': '6e8u.pdb', 'result': 0.973}\n",
      "{'files': '5lyv.pdb', 'result': nan}\n",
      "{'files': '6p2h.pdb', 'result': 0.8971}\n",
      "{'files': '3owz.pdb', 'result': 0.9885}\n",
      "{'files': '8hb8.pdb', 'result': 0.4}\n",
      "{'files': '5nz6.pdb', 'result': 0.9744}\n",
      "{'files': '8gxc.pdb', 'result': nan}\n",
      "{'files': '6ufm.pdb', 'result': 0.8265}\n",
      "{'files': '6ol3.pdb', 'result': 0.6126}\n"
     ]
    }
   ],
   "source": [
    "rd_res = []\n",
    "with open(\"RiboDiffusionResults.json\", \"r\") as file:\n",
    "    for line in file.readlines():\n",
    "        rd_res.append(json.loads(line))\n",
    "        print(json.loads(line))"
   ]
  },
  {
   "cell_type": "code",
   "execution_count": 34,
   "id": "f48bd4fa-3f22-46db-ab41-4f395ced4e53",
   "metadata": {},
   "outputs": [
    {
     "name": "stdout",
     "output_type": "stream",
     "text": [
      "pk_free_res:  0.47547272727272727\n",
      "pk_res:  0.5070605263157894\n"
     ]
    }
   ],
   "source": [
    "no_pk = [\"6y0y\", \"5y87\", \"8dp3\", \"5ddo\", \"6y0t\", \"5y85\", \"7bg9\", \"3mei\", \"7eoj\", \"6e8u\", \"3owz\"]\n",
    "pk_res = []\n",
    "pk_free_res = []\n",
    "for row in rd_res:\n",
    "    file = row[\"files\"][:-4]\n",
    "    if file in no_pk:\n",
    "        pk_free_res.append(row[\"result\"])\n",
    "    else:\n",
    "        pk_res.append(row[\"result\"])\n",
    "    \n",
    "pk_res = np.array(pk_res)\n",
    "pk_res = np.nan_to_num(pk_res, nan=0)\n",
    "pk_free_res = np.array(pk_free_res)\n",
    "pk_free_res = np.nan_to_num(pk_free_res, nan=0)\n",
    "print(\"pk_free_res: \",str(np.mean(pk_free_res)))\n",
    "print(\"pk_res: \", str(np.mean(pk_res)))"
   ]
  },
  {
   "cell_type": "code",
   "execution_count": 28,
   "id": "ebbdea6b-e980-445f-a7a8-5c2cd862f2b0",
   "metadata": {},
   "outputs": [
    {
     "data": {
      "text/plain": [
       "0.2984142857142857"
      ]
     },
     "execution_count": 28,
     "metadata": {},
     "output_type": "execute_result"
    }
   ],
   "source": [
    "results = np.array(results)\n",
    "results_no_nan = np.nan_to_num(results, nan=0)\n",
    "np.mean(results_no_nan)"
   ]
  },
  {
   "cell_type": "code",
   "execution_count": 25,
   "id": "42b64a67-b4df-4dcd-88ab-925b4eee590d",
   "metadata": {},
   "outputs": [
    {
     "data": {
      "image/png": "[encoded data removed]",
      "text/plain": [
       "<Figure size 800x600 with 1 Axes>"
      ]
     },
     "metadata": {},
     "output_type": "display_data"
    }
   ],
   "source": [
    "import matplotlib.pyplot as plt\n",
    "\n",
    "# Data\n",
    "methods = ['antaRNA', 'MCTS', 'aRNAque', 'LibLEARNA']\n",
    "values = [174, 141, 223, 0]\n",
    "\n",
    "# Create a bar plot\n",
    "plt.figure(figsize=(8, 6))\n",
    "bars = plt.bar(methods, values, color=['#4CAF50', '#2196F3', '#FFC107', '#F44336'])\n",
    "\n",
    "# Add labels and title\n",
    "plt.xlabel('Methods', fontsize=14)\n",
    "plt.ylabel('Results', fontsize=14)\n",
    "plt.title('Comparison of RNA Method Results', fontsize=16)\n",
    "\n",
    "# Add value labels on top of bars\n",
    "for bar in bars:\n",
    "    yval = bar.get_height()\n",
    "    plt.text(bar.get_x() + bar.get_width() / 2, yval + 5, round(yval, 2), ha='center', va='bottom', fontsize=12)\n",
    "\n",
    "# Show plot\n",
    "plt.tight_layout()\n",
    "plt.show()\n"
   ]
  },
  {
   "cell_type": "code",
   "execution_count": 46,
   "id": "cadfc670-0fec-41d3-bcae-9f44d434821f",
   "metadata": {},
   "outputs": [
    {
     "name": "stdout",
     "output_type": "stream",
     "text": [
      "235\n"
     ]
    }
   ],
   "source": [
    "import os\n",
    "import itertools\n",
    "ss_data = []\n",
    "\n",
    "with open(\"../../gRNAde/geometric-rna-design-main/data/split_ids/test_ids_das.txt\", \"r\") as file:\n",
    "    for line in file.readlines():\n",
    "        ss_data.append(line.strip())\n",
    "print(len(ss_data))"
   ]
  },
  {
   "cell_type": "code",
   "execution_count": 47,
   "id": "09446ca0-cbe2-4dba-99dd-9b2a78f1f07a",
   "metadata": {},
   "outputs": [
    {
     "data": {
      "text/plain": [
       "['3B5F_1_B-C-A',\n",
       " '3B5S_1_B-C-A',\n",
       " '4G6S_1_B-C-A',\n",
       " '4G6P_1_B-C-A',\n",
       " '3BBI_1_B-C-A',\n",
       " '2BCZ_1_D-C-A-B',\n",
       " '2P7D_1_D-C-P',\n",
       " '2P7E_1_D-C-P',\n",
       " '4G6R_1_D-C-A-B',\n",
       " '1ZFT_1_D-C-A-B']"
      ]
     },
     "execution_count": 47,
     "metadata": {},
     "output_type": "execute_result"
    }
   ],
   "source": [
    "ss_data[10:20]"
   ]
  },
  {
   "cell_type": "code",
   "execution_count": 48,
   "id": "c221ff16-d848-40e5-9640-28a131e785f3",
   "metadata": {},
   "outputs": [
    {
     "name": "stdout",
     "output_type": "stream",
     "text": [
      "172\n"
     ]
    }
   ],
   "source": [
    "import os\n",
    "import itertools\n",
    "ms_data = []\n",
    "\n",
    "with open(\"../../gRNAde/geometric-rna-design-main/data/split_ids/test_ids_structsim_v2.txt\", \"r\") as file:\n",
    "    for line in file.readlines():\n",
    "        ms_data.append(line.strip())\n",
    "print(len(ms_data))"
   ]
  },
  {
   "cell_type": "code",
   "execution_count": 49,
   "id": "05616bb2-7fcc-455c-bc9f-5395ca3401c8",
   "metadata": {},
   "outputs": [
    {
     "data": {
      "text/plain": [
       "['6Q97_1_4', '4V6T_1_AV', '6Q98_1_4', '6Q9A_1_4', '7ACR_1_4']"
      ]
     },
     "execution_count": 49,
     "metadata": {},
     "output_type": "execute_result"
    }
   ],
   "source": [
    "ms_data[0:5]"
   ]
  },
  {
   "cell_type": "code",
   "execution_count": 70,
   "id": "cc94f4e9-3071-4707-b672-11d4b36b4ce0",
   "metadata": {},
   "outputs": [
    {
     "name": "stdout",
     "output_type": "stream",
     "text": [
      "22313\n"
     ]
    }
   ],
   "source": [
    "tertiary_data = os.listdir(\"/home/jack/Raw_Tertiary_Data/\")\n",
    "print(len(tertiary_data))"
   ]
  },
  {
   "cell_type": "code",
   "execution_count": 73,
   "id": "4676c55a-0a0e-4b25-8c23-bbb07066f7f9",
   "metadata": {},
   "outputs": [
    {
     "data": {
      "text/plain": [
       "['2KY2.pdb',\n",
       " '4P97_1_A-B.pdb',\n",
       " '6J6N_1_L-E.pdb',\n",
       " '5ELK.pdb',\n",
       " '1ZC8_1_Z.pdb',\n",
       " '5UHC_1_I.pdb',\n",
       " '6DN2.pdb',\n",
       " '8FON_1_RB.pdb',\n",
       " '8PHK_1_R.pdb',\n",
       " '1EFW.pdb']"
      ]
     },
     "execution_count": 73,
     "metadata": {},
     "output_type": "execute_result"
    }
   ],
   "source": [
    "tertiary_data[2000:2010]"
   ]
  },
  {
   "cell_type": "code",
   "execution_count": 63,
   "id": "1d4e0807-8ccc-4c0f-b572-8d3941e6123f",
   "metadata": {},
   "outputs": [
    {
     "name": "stdout",
     "output_type": "stream",
     "text": [
      "['6VA1_1_A-B', '8OH6_1_AU', '1UVM_1_F', '8X0S_1_A', '7F8Z_1_A-B', '6GB2_1_AV', '4WTD', '5TDJ_1_B', '8H6E_1_4A', '6YAN_1_2']\n"
     ]
    }
   ],
   "source": [
    "tertiary_data = [x[:-4] for x in tertiary_data]\n",
    "print(tertiary_data[0:10])"
   ]
  },
  {
   "cell_type": "code",
   "execution_count": 68,
   "id": "2d72511d-863b-464d-b145-30f1eb065029",
   "metadata": {},
   "outputs": [
    {
     "name": "stdout",
     "output_type": "stream",
     "text": [
      "98\n",
      "137\n"
     ]
    }
   ],
   "source": [
    "matches = [x for x in ss_data if any(x in t for t in tertiary_data)]\n",
    "print(len(matches))\n",
    "non_matches = set(ss_data) - set(tertiary_data)\n",
    "print(len(non_matches))"
   ]
  },
  {
   "cell_type": "code",
   "execution_count": 32,
   "id": "40e2dff2-4d1a-49f9-b10f-115a093f0076",
   "metadata": {},
   "outputs": [],
   "source": [
    "single_state_data = []\n",
    "multi_state_data = []\n",
    "for row in data:\n",
    "    if len(row.split(\",\")) > 1:\n",
    "        single_state_data.append(row)\n",
    "    else:\n",
    "        multi_state_data.append(row.split(\",\"))"
   ]
  },
  {
   "cell_type": "code",
   "execution_count": 69,
   "id": "6d04f53f-981c-4f33-a61d-31a43685da2c",
   "metadata": {},
   "outputs": [
    {
     "name": "stdout",
     "output_type": "stream",
     "text": [
      "Failed to download 3DS7_1_A.pdb, status code: 404\n",
      "Failed to download 1L2X_1_A.pdb, status code: 404\n",
      "Failed to download 1LNT_1_A-B.pdb, status code: 404\n",
      "Failed to download 3GOG_1_A.pdb, status code: 404\n",
      "Failed to download 2OJ0_1_A-B.pdb, status code: 404\n",
      "Failed to download 3GES_1_A.pdb, status code: 404\n"
     ]
    },
    {
     "name": "stderr",
     "output_type": "stream",
     "text": [
      "\n",
      "KeyboardInterrupt\n",
      "\n"
     ]
    }
   ],
   "source": [
    "import requests\n",
    "\n",
    "def download_pdb(pdb_id, save_path):\n",
    "    url = f\"https://files.rcsb.org/download/{pdb_id}.pdb\"\n",
    "    response = requests.get(url)\n",
    "    \n",
    "    if response.status_code == 200:\n",
    "        with open(save_path, 'wb') as file:\n",
    "            file.write(response.content)\n",
    "        print(f\"Downloaded {pdb_id}.pdb successfully!\")\n",
    "    else:\n",
    "        print(f\"Failed to download {pdb_id}.pdb, status code: {response.status_code}\")\n",
    "\n",
    "# Example: list of PDB IDs\n",
    "pdb_ids = non_matches\n",
    "\n",
    "# Download each PDB file\n",
    "for pdb_id in pdb_ids:\n",
    "    save_path = f\"./{pdb_id}.pdb\"\n",
    "    download_pdb(pdb_id, save_path)\n"
   ]
  },
  {
   "cell_type": "code",
   "execution_count": null,
   "id": "bdc45d1b-a7e1-4899-ac1a-61223baf5544",
   "metadata": {},
   "outputs": [],
   "source": []
  }
 ],
 "metadata": {
  "kernelspec": {
   "display_name": "Python 3 (ipykernel)",
   "language": "python",
   "name": "python3"
  },
  "language_info": {
   "codemirror_mode": {
    "name": "ipython",
    "version": 3
   },
   "file_extension": ".py",
   "mimetype": "text/x-python",
   "name": "python",
   "nbconvert_exporter": "python",
   "pygments_lexer": "ipython3",
   "version": "3.12.4"
  }
 },
 "nbformat": 4,
 "nbformat_minor": 5
}
