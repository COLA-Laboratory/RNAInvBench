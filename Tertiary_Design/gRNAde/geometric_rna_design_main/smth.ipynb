{
 "cells": [
  {
   "cell_type": "code",
   "execution_count": 1,
   "id": "d4a7bf96-77d2-416f-be40-2a383f38d521",
   "metadata": {},
   "outputs": [],
   "source": [
    "import subprocess\n",
    "import os\n",
    "import torch\n"
   ]
  },
  {
   "cell_type": "code",
   "execution_count": 9,
   "id": "4ea3bd10-d0b2-43ba-b37b-d31c1d335de0",
   "metadata": {},
   "outputs": [],
   "source": [
    "DATA_PATH = \"/home/jack/Raw_Tertiary_Data/\"\n",
    "\n",
    "def get_data_splits(split_type=\"das\"):\n",
    "    \"\"\"\n",
    "    Returns train, val, test data splits as lists.\n",
    "    \"\"\"\n",
    "    data_list = list(torch.load(os.path.join(DATA_PATH, \"processed.pt\")).values())\n",
    "    \n",
    "    def index_list_by_indices(lst, indices):\n",
    "        # return [lst[index] if 0 <= index < len(lst) else None for index in indices]\n",
    "        return [lst[index] for index in indices]\n",
    "    \n",
    "    # Pre-compute using notebooks/split_{split_type}.ipynb\n",
    "    train_idx_list, val_idx_list, test_idx_list = torch.load(\n",
    "        os.path.join(DATA_PATH, f\"{split_type}_split.pt\")) \n",
    "    # train_list = index_list_by_indices(data_list, train_idx_list)\n",
    "    # val_list = index_list_by_indices(data_list, val_idx_list)\n",
    "    test_list = index_list_by_indices(data_list, test_idx_list)\n",
    "\n",
    "    return test_list\n"
   ]
  },
  {
   "cell_type": "code",
   "execution_count": 10,
   "id": "eae42fca-1695-4289-8883-5d6d59eccbf5",
   "metadata": {},
   "outputs": [
    {
     "name": "stderr",
     "output_type": "stream",
     "text": [
      "/tmp/ipykernel_1216709/1672944786.py:7: FutureWarning: You are using `torch.load` with `weights_only=False` (the current default value), which uses the default pickle module implicitly. It is possible to construct malicious pickle data which will execute arbitrary code during unpickling (See https://github.com/pytorch/pytorch/blob/main/SECURITY.md#untrusted-models for more details). In a future release, the default value for `weights_only` will be flipped to `True`. This limits the functions that could be executed during unpickling. Arbitrary objects will no longer be allowed to be loaded via this mode unless they are explicitly allowlisted by the user via `torch.serialization.add_safe_globals`. We recommend you start setting `weights_only=True` for any use case where you don't have full control of the loaded file. Please open an issue on GitHub for any issues related to this experimental feature.\n",
      "  data_list = list(torch.load(os.path.join(DATA_PATH, \"processed.pt\")).values())\n",
      "/tmp/ipykernel_1216709/1672944786.py:14: FutureWarning: You are using `torch.load` with `weights_only=False` (the current default value), which uses the default pickle module implicitly. It is possible to construct malicious pickle data which will execute arbitrary code during unpickling (See https://github.com/pytorch/pytorch/blob/main/SECURITY.md#untrusted-models for more details). In a future release, the default value for `weights_only` will be flipped to `True`. This limits the functions that could be executed during unpickling. Arbitrary objects will no longer be allowed to be loaded via this mode unless they are explicitly allowlisted by the user via `torch.serialization.add_safe_globals`. We recommend you start setting `weights_only=True` for any use case where you don't have full control of the loaded file. Please open an issue on GitHub for any issues related to this experimental feature.\n",
      "  train_idx_list, val_idx_list, test_idx_list = torch.load(\n"
     ]
    },
    {
     "ename": "IndexError",
     "evalue": "list index out of range",
     "output_type": "error",
     "traceback": [
      "\u001b[0;31m---------------------------------------------------------------------------\u001b[0m",
      "\u001b[0;31mIndexError\u001b[0m                                Traceback (most recent call last)",
      "Cell \u001b[0;32mIn[10], line 1\u001b[0m\n\u001b[0;32m----> 1\u001b[0m test \u001b[38;5;241m=\u001b[39m get_data_splits()\n",
      "Cell \u001b[0;32mIn[9], line 18\u001b[0m, in \u001b[0;36mget_data_splits\u001b[0;34m(split_type)\u001b[0m\n\u001b[1;32m     14\u001b[0m train_idx_list, val_idx_list, test_idx_list \u001b[38;5;241m=\u001b[39m torch\u001b[38;5;241m.\u001b[39mload(\n\u001b[1;32m     15\u001b[0m     os\u001b[38;5;241m.\u001b[39mpath\u001b[38;5;241m.\u001b[39mjoin(DATA_PATH, \u001b[38;5;124mf\u001b[39m\u001b[38;5;124m\"\u001b[39m\u001b[38;5;132;01m{\u001b[39;00msplit_type\u001b[38;5;132;01m}\u001b[39;00m\u001b[38;5;124m_split.pt\u001b[39m\u001b[38;5;124m\"\u001b[39m)) \n\u001b[1;32m     16\u001b[0m \u001b[38;5;66;03m# train_list = index_list_by_indices(data_list, train_idx_list)\u001b[39;00m\n\u001b[1;32m     17\u001b[0m \u001b[38;5;66;03m# val_list = index_list_by_indices(data_list, val_idx_list)\u001b[39;00m\n\u001b[0;32m---> 18\u001b[0m test_list \u001b[38;5;241m=\u001b[39m index_list_by_indices(data_list, test_idx_list)\n\u001b[1;32m     20\u001b[0m \u001b[38;5;28;01mreturn\u001b[39;00m test_list\n",
      "Cell \u001b[0;32mIn[9], line 11\u001b[0m, in \u001b[0;36mget_data_splits.<locals>.index_list_by_indices\u001b[0;34m(lst, indices)\u001b[0m\n\u001b[1;32m      9\u001b[0m \u001b[38;5;28;01mdef\u001b[39;00m \u001b[38;5;21mindex_list_by_indices\u001b[39m(lst, indices):\n\u001b[1;32m     10\u001b[0m     \u001b[38;5;66;03m# return [lst[index] if 0 <= index < len(lst) else None for index in indices]\u001b[39;00m\n\u001b[0;32m---> 11\u001b[0m     \u001b[38;5;28;01mreturn\u001b[39;00m [lst[index] \u001b[38;5;28;01mfor\u001b[39;00m index \u001b[38;5;129;01min\u001b[39;00m indices]\n",
      "\u001b[0;31mIndexError\u001b[0m: list index out of range"
     ]
    }
   ],
   "source": [
    "test = get_data_splits()"
   ]
  },
  {
   "cell_type": "code",
   "execution_count": 15,
   "id": "f2f4d1c2-5550-4b8e-8b29-6716340fcd14",
   "metadata": {},
   "outputs": [],
   "source": [
    "train_id_list = [x[\"id_list\"] for x in train]"
   ]
  },
  {
   "cell_type": "code",
   "execution_count": 19,
   "id": "f477401f-315c-4d2e-b287-0a6921a2538a",
   "metadata": {},
   "outputs": [],
   "source": [
    "valid_id_list = [x[\"id_list\"] for x in val]"
   ]
  },
  {
   "cell_type": "code",
   "execution_count": 20,
   "id": "be1427ce-f416-4f15-b51c-2bcc3c0606df",
   "metadata": {},
   "outputs": [],
   "source": [
    "test_id_list = [x[\"id_list\"] for x in test]"
   ]
  },
  {
   "cell_type": "code",
   "execution_count": 16,
   "id": "0b4c8a94-be4e-4e3d-a6f1-850be98daa46",
   "metadata": {},
   "outputs": [
    {
     "data": {
      "text/plain": [
       "['6VA1_1_A-B', '6VA2_1_A-B', '6VA4_1_A-B', '6VA3_1_A-B']"
      ]
     },
     "execution_count": 16,
     "metadata": {},
     "output_type": "execute_result"
    }
   ],
   "source": [
    "train_id_list[0]"
   ]
  },
  {
   "cell_type": "code",
   "execution_count": 17,
   "id": "41c6e64c-395f-40fd-b0e1-4ca32cc6e071",
   "metadata": {},
   "outputs": [],
   "source": [
    "train = \"\""
   ]
  },
  {
   "cell_type": "code",
   "execution_count": 21,
   "id": "d252dc46-d178-48c7-b72a-6816edc822d7",
   "metadata": {},
   "outputs": [],
   "source": [
    "valid = \"\"\n",
    "test = \"\""
   ]
  },
  {
   "cell_type": "code",
   "execution_count": 55,
   "id": "e18d192f-005f-494e-ba6c-7f9d69fd9add",
   "metadata": {},
   "outputs": [],
   "source": [
    "with open(\"train_id_list.txt\", \"w\") as file:\n",
    "    for i, train_ids in enumerate(train_id_list):\n",
    "        for x in range(len(train_ids)):\n",
    "            if x+1 != len(train_ids):\n",
    "                file.write(train_ids[x]+\",\")\n",
    "            else:\n",
    "                file.write(train_ids[x]+\"\\n\")"
   ]
  },
  {
   "cell_type": "code",
   "execution_count": 56,
   "id": "7a841904-e863-47f5-a48a-e1143997c331",
   "metadata": {},
   "outputs": [],
   "source": [
    "with open(\"valid_id_list.txt\", \"w\") as file:\n",
    "    for i, valid_ids in enumerate(valid_id_list):\n",
    "        for x in range(len(valid_ids)):\n",
    "            if x+1 != len(valid_ids):\n",
    "                file.write(valid_ids[x]+\",\")\n",
    "            else:\n",
    "                file.write(valid_ids[x]+\"\\n\")"
   ]
  },
  {
   "cell_type": "code",
   "execution_count": 57,
   "id": "35b41255-cceb-43e8-9d12-1924e2071c52",
   "metadata": {},
   "outputs": [],
   "source": [
    "with open(\"test_id_list.txt\", \"w\") as file:\n",
    "    for i, test_ids in enumerate(test_id_list):\n",
    "        for x in range(len(test_ids)):\n",
    "            if x+1 != len(test_ids):\n",
    "                file.write(test_ids[x]+\",\")\n",
    "            else:\n",
    "                file.write(test_ids[x]+\"\\n\")"
   ]
  },
  {
   "cell_type": "code",
   "execution_count": 58,
   "id": "871c5990-bdb7-4abd-81a8-e36020d1d3fd",
   "metadata": {},
   "outputs": [],
   "source": [
    "test_ids = []\n",
    "ids = []\n",
    "with open(\"valid_id_list.txt\", \"r\") as file:\n",
    "    for line in file.readlines():\n",
    "        line = line.strip()\n",
    "        test_ids.append(line.split(\",\"))"
   ]
  },
  {
   "cell_type": "code",
   "execution_count": 59,
   "id": "2f8d600f-0d79-470d-bc6c-e98b2b72d914",
   "metadata": {},
   "outputs": [
    {
     "name": "stdout",
     "output_type": "stream",
     "text": [
      "100\n"
     ]
    }
   ],
   "source": [
    "print(len(test_ids))"
   ]
  },
  {
   "cell_type": "code",
   "execution_count": 60,
   "id": "c7b99147-0de4-4c28-a402-0a705e0d5868",
   "metadata": {},
   "outputs": [
    {
     "data": {
      "text/plain": [
       "['7F8Z_1_A-B',\n",
       " '7EIA_1_G-H',\n",
       " '7EIA_1_C-D',\n",
       " '7F8Z_1_C-D',\n",
       " '7F8Z_1_G-H',\n",
       " '7F8Z_1_E-F',\n",
       " '7EIA_1_A-B',\n",
       " '7F8Z_1_I-J',\n",
       " '7EIA_1_E-F']"
      ]
     },
     "execution_count": 60,
     "metadata": {},
     "output_type": "execute_result"
    }
   ],
   "source": [
    "test_ids[0]"
   ]
  },
  {
   "cell_type": "code",
   "execution_count": 3,
   "id": "546931bb-fb03-43db-84d3-953e01715b29",
   "metadata": {},
   "outputs": [
    {
     "name": "stdout",
     "output_type": "stream",
     "text": [
      "7zj4.pdb\n",
      "((((((((((((((((((((((((((((((....)))))))))(((((((..[[[[[[.)))))))(((((((((..[[[[[[.)))))))((((((((((((((((((((((((((((((..]]]]]].))))))((((((()]]]]]].))))))(((((((((((((....(....((((....)))..)..........).)))))))))))))))((((((((((((...(..)(((((.(.(((((((....)))))).)).)))))))))))))))))(((((((((....)))))))))))))))))))))))))))))))(((((((((....))))))))))))))))))))))))))))))))...\n"
     ]
    }
   ],
   "source": [
    "import json\n",
    "\n",
    "pdb_files = []\n",
    "structures = []\n",
    "sequences = []\n",
    "with open(\"CASP15.txt\", \"r\") as file:\n",
    "    for line in file.readlines():\n",
    "        line = json.loads(line)\n",
    "        pdb_files.append(line[\"pdb_file\"])\n",
    "        structures.append(line[\"struct\"])\n",
    "        # sequences.append(line[\"seq\"])\n",
    "print(pdb_files[0])\n",
    "print(structures[0])\n",
    "# print(sequences[0])"
   ]
  },
  {
   "cell_type": "code",
   "execution_count": 4,
   "id": "975f0100-653d-4cb6-8b43-f3753d07c580",
   "metadata": {},
   "outputs": [],
   "source": [
    "def validate_rna_structure(structure):\n",
    "    stack = []\n",
    "    valid_pairs = {')': '(', ']': '[', '{': '}', '<': '>', 'A': 'a'}  # Closing brackets must match opening brackets\n",
    "    try:\n",
    "        for char in structure:\n",
    "            if char in \"([{<A\":  # Push opening brackets onto the stack\n",
    "                stack.append(char)\n",
    "            elif char in \")]}>a\":  # Check closing brackets\n",
    "                if not stack or stack[-1] != valid_pairs[char]:\n",
    "                    return False, \"Unmatched closing bracket\"  # Unmatched closing bracket\n",
    "                stack.pop()\n",
    "            elif char != '.':  # Invalid character (not ., (, ), [, or ])\n",
    "                return False, \"Invalid character\"\n",
    "        \n",
    "        return len(stack) == 0, \"\"\n",
    "    except:\n",
    "        return False, \"NoneType\""
   ]
  },
  {
   "cell_type": "code",
   "execution_count": 5,
   "id": "2e6ad524-9cd4-4908-b06b-e7dafcd31759",
   "metadata": {},
   "outputs": [],
   "source": [
    "new_structures = []\n",
    "new_sequences = []\n",
    "new_pdb_files = []\n",
    "for j, _ in enumerate(sequences):\n",
    "    if structures[j] == None:\n",
    "        continue\n",
    "    final_struct = \"\"\n",
    "    final_seq = \"\"\n",
    "    for i, char in enumerate(sequences[j]):\n",
    "        # print(i)\n",
    "        if char in [\"A\", \"G\", \"C\", \"U\", \"T\"]:\n",
    "            try:\n",
    "                if char == \"T\":\n",
    "                    char = \"U\"\n",
    "                final_struct += structures[j][i]\n",
    "                final_seq += char\n",
    "            except:\n",
    "                print(len(structures[j][i]))\n",
    "                print(len(sequences[j][i]))\n",
    "                break\n",
    "    new_structures.append(final_struct)\n",
    "    new_sequences.append(final_seq)\n",
    "    new_pdb_files.append(pdb_files[j])\n",
    "    "
   ]
  },
  {
   "cell_type": "code",
   "execution_count": 6,
   "id": "0aec198a-8ed6-4589-8bcc-763f713936a0",
   "metadata": {},
   "outputs": [
    {
     "name": "stdout",
     "output_type": "stream",
     "text": [
      "7zj4.pdb is not valid\n",
      "Unmatched closing bracket\n",
      "8s95.pdb is not valid\n",
      "Unmatched closing bracket\n",
      "8uys.pdb is not valid\n",
      "NoneType\n",
      "7yr6.pdb is valid\n",
      "7qr4.pdb is not valid\n",
      "Unmatched closing bracket\n",
      "7qr3.pdb is not valid\n",
      "Unmatched closing bracket\n",
      "7ptk.pdb is not valid\n",
      "Unmatched closing bracket\n",
      "7ptl.pdb is not valid\n",
      "Unmatched closing bracket\n",
      "8fza.pdb is not valid\n",
      "Unmatched closing bracket\n",
      "8uyg.pdb is not valid\n",
      "NoneType\n",
      "7yr7.pdb is valid\n",
      "8btz.pdb is not valid\n",
      "Unmatched closing bracket\n",
      "8uyj.pdb is not valid\n",
      "NoneType\n",
      "8uye.pdb is not valid\n",
      "NoneType\n"
     ]
    }
   ],
   "source": [
    "for structure, pdb_file in zip(structures, pdb_files):\n",
    "    valid_or_not, reason = validate_rna_structure(structure)\n",
    "    if valid_or_not:\n",
    "        print(f\"{pdb_file} is valid\")\n",
    "    else:\n",
    "        print(f\"{pdb_file} is not valid\")\n",
    "        print(reason)"
   ]
  },
  {
   "cell_type": "code",
   "execution_count": 12,
   "id": "8e9341c8-bdf7-44de-a7af-4448c90d7c27",
   "metadata": {},
   "outputs": [],
   "source": [
    "with open(\"rna_puzzles_sec_structs.txt\", \"w\") as file:\n",
    "    for struct, seq, pdb_file in zip(structures, sequences, pdb_files):\n",
    "        valid_or_not, _ = validate_rna_structure(struct)\n",
    "        if valid_or_not:\n",
    "            temp = {\"pdb_file\": pdb_file, \"struct\": struct}\n",
    "            file.write(json.dumps(temp)+\"\\n\")"
   ]
  },
  {
   "cell_type": "code",
   "execution_count": 10,
   "id": "fbc383fc-5236-4afd-ab5b-e1aed6205db3",
   "metadata": {},
   "outputs": [],
   "source": [
    "with open(\"rna_puzzles_sec_structs_only.txt\", \"w\") as file:\n",
    "    for struct in structures:\n",
    "        if struct is not None:\n",
    "            file.write(struct+\"\\n\")"
   ]
  },
  {
   "cell_type": "code",
   "execution_count": null,
   "id": "3892e0b3-6bd9-44a5-9885-f5a9f8a02bc8",
   "metadata": {},
   "outputs": [],
   "source": []
  }
 ],
 "metadata": {
  "kernelspec": {
   "display_name": "Python 3 (ipykernel)",
   "language": "python",
   "name": "python3"
  },
  "language_info": {
   "codemirror_mode": {
    "name": "ipython",
    "version": 3
   },
   "file_extension": ".py",
   "mimetype": "text/x-python",
   "name": "python",
   "nbconvert_exporter": "python",
   "pygments_lexer": "ipython3",
   "version": "3.12.4"
  }
 },
 "nbformat": 4,
 "nbformat_minor": 5
}
