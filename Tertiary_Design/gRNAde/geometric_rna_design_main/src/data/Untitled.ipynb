{
 "cells": [
  {
   "cell_type": "code",
   "execution_count": 2,
   "id": "ad98ecd4-a159-4f86-a381-e9e2aaa39ec3",
   "metadata": {},
   "outputs": [
    {
     "name": "stdout",
     "output_type": "stream",
     "text": [
      "Collecting ViennaRNA\n",
      "  Downloading ViennaRNA-2.7.0-cp312-cp312-manylinux_2_17_x86_64.manylinux2014_x86_64.whl.metadata (13 kB)\n",
      "Downloading ViennaRNA-2.7.0-cp312-cp312-manylinux_2_17_x86_64.manylinux2014_x86_64.whl (13.2 MB)\n",
      "\u001b[2K   \u001b[38;2;114;156;31m━━━━━━━━━━━━━━━━━━━━━━━━━━━━━━━━━━━━━━━━\u001b[0m \u001b[32m13.2/13.2 MB\u001b[0m \u001b[31m8.6 MB/s\u001b[0m eta \u001b[36m0:00:00\u001b[0m0m eta \u001b[36m0:00:01\u001b[0m0:01\u001b[0m:01\u001b[0m\n",
      "\u001b[?25hInstalling collected packages: ViennaRNA\n",
      "Successfully installed ViennaRNA-2.7.0\n"
     ]
    }
   ],
   "source": [
    "!pip install ViennaRNA"
   ]
  },
  {
   "cell_type": "code",
   "execution_count": 3,
   "id": "43a47e38-39e8-41a7-8dd9-dfe18c7ec4b7",
   "metadata": {},
   "outputs": [],
   "source": [
    "import numpy as np\n",
    "import pandas as pd\n",
    "import RNA\n",
    "df = pd.read_csv(\"InverseRNACASP15Results.csv\")\n",
    "casp_seqs = []\n",
    "with open(\"CASP15_seqs.txt\", \"r\") as file:\n",
    "    for line in file.readlines():\n",
    "        casp_seqs.append(line.strip())"
   ]
  },
  {
   "cell_type": "code",
   "execution_count": 4,
   "id": "4eb747fd-2686-4448-bf46-d519b16ace2f",
   "metadata": {},
   "outputs": [],
   "source": [
    "def dotbracket_to_adjacency(\n",
    "        sec_struct: str,\n",
    "        keep_pseudoknots: bool = False,\n",
    "    ) -> np.ndarray:\n",
    "    \"\"\"\n",
    "    Convert secondary structure in dot-bracket notation to \n",
    "    adjacency matrix.\n",
    "    \"\"\"\n",
    "    n = len(sec_struct)\n",
    "    adj = np.zeros((n, n), dtype=np.int8)\n",
    "        \n",
    "    if keep_pseudoknots == False:\n",
    "        stack = []\n",
    "        for i, db_char in enumerate(sec_struct):\n",
    "            if db_char == '(':\n",
    "                stack.append(i)\n",
    "            elif db_char == ')':\n",
    "                j = stack.pop()\n",
    "                adj[i, j] = 1\n",
    "                adj[j, i] = 1\n",
    "    else:\n",
    "        stack={\n",
    "            '(':[],\n",
    "            '[':[],\n",
    "            '<':[],\n",
    "            '{':[]\n",
    "        }\n",
    "        pop={\n",
    "            ')':'(',\n",
    "            ']':'[',\n",
    "            '>':\"<\",\n",
    "            '}':'{'\n",
    "        }\n",
    "        for i, db_char in enumerate(sec_struct):\n",
    "            if db_char in stack:\n",
    "                stack[db_char].append((i, db_char))\n",
    "            elif db_char in pop:\n",
    "                forward_bracket = stack[pop[db_char]].pop()\n",
    "                adj[forward_bracket[0], i] = 1\n",
    "                adj[i, forward_bracket[0]] = 1    \n",
    "    return adj\n"
   ]
  },
  {
   "cell_type": "code",
   "execution_count": 5,
   "id": "dee791ff-128d-4d6b-a73f-8149fc40f1c4",
   "metadata": {},
   "outputs": [
    {
     "ename": "ModuleNotFoundError",
     "evalue": "No module named 'torchmetrics'",
     "output_type": "error",
     "traceback": [
      "\u001b[0;31m---------------------------------------------------------------------------\u001b[0m",
      "\u001b[0;31mModuleNotFoundError\u001b[0m                       Traceback (most recent call last)",
      "Cell \u001b[0;32mIn[5], line 1\u001b[0m\n\u001b[0;32m----> 1\u001b[0m \u001b[38;5;28;01mfrom\u001b[39;00m \u001b[38;5;21;01mtorchmetrics\u001b[39;00m\u001b[38;5;21;01m.\u001b[39;00m\u001b[38;5;21;01mfunctional\u001b[39;00m\u001b[38;5;21;01m.\u001b[39;00m\u001b[38;5;21;01mclassification\u001b[39;00m \u001b[38;5;28;01mimport\u001b[39;00m binary_matthews_corrcoef\n\u001b[1;32m      4\u001b[0m seqs \u001b[38;5;241m=\u001b[39m df[\u001b[38;5;124m\"\u001b[39m\u001b[38;5;124msequences\u001b[39m\u001b[38;5;124m\"\u001b[39m]\u001b[38;5;241m.\u001b[39mto_list()\n\u001b[1;32m      5\u001b[0m \u001b[38;5;28mprint\u001b[39m(\u001b[38;5;28mlen\u001b[39m(seqs))\n",
      "\u001b[0;31mModuleNotFoundError\u001b[0m: No module named 'torchmetrics'"
     ]
    }
   ],
   "source": [
    "from torchmetrics.functional.classification import binary_matthews_corrcoef\n",
    "\n",
    "\n",
    "seqs = df[\"sequences\"].to_list()\n",
    "print(len(seqs))\n",
    "print(len(casp_seqs))\n",
    "i = 0\n",
    "mcc_scores = []\n",
    "for seq, casp_seq, casp_struct in zip(seqs, casp_seqs, df[\"structures\"].to_list()):\n",
    "    seq = seq.split(\" \")[0]\n",
    "    print(seq)\n",
    "    print(casp_seq)\n",
    "    mcc_scores.append(\n",
    "            binary_matthews_corrcoef(\n",
    "                dotbracket_to_adjacency(list(RNA.fold(seq)[0])),\n",
    "                dotbracket_to_adjacency(list(RNA.fold(casp_seq)[0])),\n",
    "            ).float().mean())\n",
    "    # recovery = #calculate recovery\n",
    "    # ssc = RNA.fold(seq)[0], #calculate ssc\n",
    "print(np.mean(mcc_scores))"
   ]
  },
  {
   "cell_type": "code",
   "execution_count": null,
   "id": "a3e822a5-eb19-4220-84f7-e8a51db7d7fd",
   "metadata": {},
   "outputs": [],
   "source": []
  }
 ],
 "metadata": {
  "kernelspec": {
   "display_name": "Python 3 (ipykernel)",
   "language": "python",
   "name": "python3"
  },
  "language_info": {
   "codemirror_mode": {
    "name": "ipython",
    "version": 3
   },
   "file_extension": ".py",
   "mimetype": "text/x-python",
   "name": "python",
   "nbconvert_exporter": "python",
   "pygments_lexer": "ipython3",
   "version": "3.12.4"
  }
 },
 "nbformat": 4,
 "nbformat_minor": 5
}
