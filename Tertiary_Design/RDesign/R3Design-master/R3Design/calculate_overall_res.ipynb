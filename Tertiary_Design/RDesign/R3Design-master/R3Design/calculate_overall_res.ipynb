{
 "cells": [
  {
   "cell_type": "code",
   "execution_count": 5,
   "id": "bb904fc9-176f-48a2-b2d8-ab3084c96248",
   "metadata": {},
   "outputs": [],
   "source": [
    "import json\n",
    "import numpy as np\n",
    "\n",
    "data = []\n",
    "with open(\"rdesign_resultcasp152025-01-30 18:15:40.json\", \"r\") as file:\n",
    "    for line in file.readlines():\n",
    "        data.append(json.loads(line.strip()))"
   ]
  },
  {
   "cell_type": "code",
   "execution_count": 6,
   "id": "772aea2e-92b9-4eb8-ad4d-46fe84093bfc",
   "metadata": {},
   "outputs": [
    {
     "data": {
      "text/plain": [
       "{'pdb_file': '/home/jack/Tertiary_Models/gRNAde/geometric-rna-design-main/data/CASP15/split_pdbs2/',\n",
       " 'PDB_ID': '8uyg_1_A',\n",
       " 'F1': 0.3434707287933094,\n",
       " 'Recovery': 0.37777779,\n",
       " 'Pred_Seq': 'GGGGAUCGUCGAAGGUGUUGGCGGCCCGCCGGAUGUAUCCCUAAAGAGGGUAAUCCGGCGAGAGGAGCCCGCCCGAGUCCUACAAGGCCGGGCGGGGUCGGCGAUGAAAGCCGGCCCGCUAUCCCUCGCGUCCCC',\n",
       " 'True_Seq': 'GGAGCAUCGUGUCUCAAGUGCUUCACGGUCACAAUAUACCGUUUCGUCGGGUGCGUGGCAAUUCGGUGCACAUCAUGUCUUUCGUGGCUGGUGUGGCUCCUCAAGGUGCGAGGGGCAAGUAUAGAGCAGAGCUCC',\n",
       " 'Perplexity': 3.95505,\n",
       " 'SSC': 0.6134169697761536}"
      ]
     },
     "execution_count": 6,
     "metadata": {},
     "output_type": "execute_result"
    }
   ],
   "source": [
    "data[0]"
   ]
  },
  {
   "cell_type": "code",
   "execution_count": 7,
   "id": "2d4afeff-9cc8-4c1c-82bd-fd0597ab9435",
   "metadata": {},
   "outputs": [],
   "source": [
    "f1_scores = [x[\"F1\"] for x in data]\n",
    "recoveries = [x[\"Recovery\"] for x in data]\n",
    "perplexities = [x[\"Perplexity\"] for x in data]\n",
    "sscs = []\n",
    "for x in data:\n",
    "    if \"SSC\" in x.keys():\n",
    "        sscs.append(x[\"SSC\"])\n"
   ]
  },
  {
   "cell_type": "code",
   "execution_count": 8,
   "id": "12a00b20-be1c-4d02-9554-ab2faa02ba3b",
   "metadata": {},
   "outputs": [
    {
     "name": "stdout",
     "output_type": "stream",
     "text": [
      "f1: 0.33327326383170647\n",
      "Recovery: 0.34463433155737705\n",
      "Perplexity: 4.008861331147541\n",
      "SSC: 0.5396444184084733\n"
     ]
    }
   ],
   "source": [
    "print(f\"f1: {np.mean(f1_scores)}\")\n",
    "print(f\"Recovery: {np.mean(recoveries)}\")\n",
    "print(f\"Perplexity: {np.mean(perplexities)}\")\n",
    "print(f\"SSC: {np.mean(sscs)}\")"
   ]
  },
  {
   "cell_type": "code",
   "execution_count": null,
   "id": "84a37871-1c79-44c6-89d5-4c3e1d873e5c",
   "metadata": {},
   "outputs": [],
   "source": []
  },
  {
   "cell_type": "code",
   "execution_count": null,
   "id": "725880bf-d5c3-4246-94c8-b5296080710c",
   "metadata": {},
   "outputs": [],
   "source": []
  }
 ],
 "metadata": {
  "kernelspec": {
   "display_name": "Python 3 (ipykernel)",
   "language": "python",
   "name": "python3"
  },
  "language_info": {
   "codemirror_mode": {
    "name": "ipython",
    "version": 3
   },
   "file_extension": ".py",
   "mimetype": "text/x-python",
   "name": "python",
   "nbconvert_exporter": "python",
   "pygments_lexer": "ipython3",
   "version": "3.12.4"
  }
 },
 "nbformat": 4,
 "nbformat_minor": 5
}
